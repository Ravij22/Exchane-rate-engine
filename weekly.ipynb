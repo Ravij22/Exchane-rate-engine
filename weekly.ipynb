{
 "cells": [
  {
   "cell_type": "code",
   "execution_count": 54,
   "id": "ff3ac7d8",
   "metadata": {},
   "outputs": [
    {
     "data": {
      "image/png": "[encoded data removed]",
      "text/plain": [
       "<Figure size 432x288 with 1 Axes>"
      ]
     },
     "metadata": {
      "needs_background": "light"
     },
     "output_type": "display_data"
    }
   ],
   "source": [
    "import pandas as pd\n",
    "import numpy as np\n",
    "import matplotlib.pyplot as plt\n",
    "import plotly.express as px\n",
    "import streamlit as st\n",
    "  \n",
    "def week(year,month,week,cur):\n",
    "    \n",
    "    df1 = pd.read_csv('Exchange_Rate_Report_2012.csv')\n",
    "    df2 = pd.read_csv('Exchange_Rate_Report_2013.csv')\n",
    "    df3 = pd.read_csv('Exchange_Rate_Report_2014.csv')\n",
    "    df4 = pd.read_csv('Exchange_Rate_Report_2015.csv')\n",
    "    df5 = pd.read_csv('Exchange_Rate_Report_2016.csv')\n",
    "    df6 = pd.read_csv('Exchange_Rate_Report_2017.csv')\n",
    "    df7 = pd.read_csv('Exchange_Rate_Report_2018.csv')\n",
    "    df8 = pd.read_csv('Exchange_Rate_Report_2019.csv')\n",
    "    df9 = pd.read_csv('Exchange_Rate_Report_2020.csv')\n",
    "    df10 = pd.read_csv('Exchange_Rate_Report_2021.csv')\n",
    "    df11 = pd.read_csv('Exchange_Rate_Report_2022.csv')\n",
    "\n",
    "    df_all = pd.concat([df1,df2,df3,df4,df5,df6,df7,df8,df9,df10,df11],axis=0)\n",
    "    \n",
    "    df=pd.DataFrame()\n",
    "    \n",
    "    if year=='2012':\n",
    "        df = df1\n",
    "    if year=='2013':\n",
    "        df = df2\n",
    "    if year=='2014':\n",
    "        df = df3\n",
    "    if year=='2015':\n",
    "        df = df4\n",
    "    if year=='2016':\n",
    "        df = df5\n",
    "    if year=='2017':\n",
    "        df = df6\n",
    "    if year=='2018':\n",
    "        df = df7\n",
    "    if year=='2019':\n",
    "        df = df8\n",
    "    if year=='2020':\n",
    "        df = df9\n",
    "    if year=='2021':\n",
    "        df = df10\n",
    "    if year=='2022':\n",
    "        df = df11\n",
    "    x=[]\n",
    "    y=[]\n",
    "    \n",
    "    temp=[]\n",
    "    date = list(df['Date'])\n",
    "    data = list(df[cur])\n",
    "    for i in range(len(date)):\n",
    "        d = str(date[i])\n",
    "        a=d.split(\"-\")\n",
    "        if a[1]==month:\n",
    "            if (int(week)-1)*7<int(a[0])<=int(week)*7 :\n",
    "                x.append(a[0])\n",
    "                y.append(data[i])\n",
    "    \n",
    "    df_to_plot=pd.DataFrame(x,y)\n",
    "    \n",
    "    fig = px.line(df_to_plot)\n",
    "    fig.update_xaxes(title_text='Date')\n",
    "    fig.update_yaxes(title_text='Exchange Rate')\n",
    "    st.write(fig)\n",
    "\n"
   ]
  },
  {
   "cell_type": "code",
   "execution_count": null,
   "id": "db76076a",
   "metadata": {},
   "outputs": [],
   "source": []
  }
 ],
 "metadata": {
  "kernelspec": {
   "display_name": "Python 3 (ipykernel)",
   "language": "python",
   "name": "python3"
  },
  "language_info": {
   "codemirror_mode": {
    "name": "ipython",
    "version": 3
   },
   "file_extension": ".py",
   "mimetype": "text/x-python",
   "name": "python",
   "nbconvert_exporter": "python",
   "pygments_lexer": "ipython3",
   "version": "3.9.7"
  }
 },
 "nbformat": 4,
 "nbformat_minor": 5
}
